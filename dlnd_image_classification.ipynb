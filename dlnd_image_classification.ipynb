{
 "cells": [
  {
   "cell_type": "markdown",
   "metadata": {
    "collapsed": true
   },
   "source": [
    "# Image Classification\n",
    "In this project, you'll classify images from the [CIFAR-10 dataset](https://www.cs.toronto.edu/~kriz/cifar.html).  The dataset consists of airplanes, dogs, cats, and other objects. You'll preprocess the images, then train a convolutional neural network on all the samples. The images need to be normalized and the labels need to be one-hot encoded.  You'll get to apply what you learned and build a convolutional, max pooling, dropout, and fully connected layers.  At the end, you'll get to see your neural network's predictions on the sample images.\n",
    "## Get the Data\n",
    "Run the following cell to download the [CIFAR-10 dataset for python](https://www.cs.toronto.edu/~kriz/cifar-10-python.tar.gz)."
   ]
  },
  {
   "cell_type": "code",
   "execution_count": 1,
   "metadata": {
    "collapsed": false
   },
   "outputs": [
    {
     "name": "stderr",
     "output_type": "stream",
     "text": [
      "CIFAR-10 Dataset: 171MB [18:07, 157KB/s]                               \n"
     ]
    },
    {
     "name": "stdout",
     "output_type": "stream",
     "text": [
      "All files found!\n"
     ]
    }
   ],
   "source": [
    "\"\"\"\n",
    "DON'T MODIFY ANYTHING IN THIS CELL THAT IS BELOW THIS LINE\n",
    "\"\"\"\n",
    "from urllib.request import urlretrieve\n",
    "from os.path import isfile, isdir\n",
    "from tqdm import tqdm\n",
    "import problem_unittests as tests\n",
    "import tarfile\n",
    "\n",
    "cifar10_dataset_folder_path = 'cifar-10-batches-py'\n",
    "\n",
    "class DLProgress(tqdm):\n",
    "    last_block = 0\n",
    "\n",
    "    def hook(self, block_num=1, block_size=1, total_size=None):\n",
    "        self.total = total_size\n",
    "        self.update((block_num - self.last_block) * block_size)\n",
    "        self.last_block = block_num\n",
    "\n",
    "if not isfile('cifar-10-python.tar.gz'):\n",
    "    with DLProgress(unit='B', unit_scale=True, miniters=1, desc='CIFAR-10 Dataset') as pbar:\n",
    "        urlretrieve(\n",
    "            'https://www.cs.toronto.edu/~kriz/cifar-10-python.tar.gz',\n",
    "            'cifar-10-python.tar.gz',\n",
    "            pbar.hook)\n",
    "\n",
    "if not isdir(cifar10_dataset_folder_path):\n",
    "    with tarfile.open('cifar-10-python.tar.gz') as tar:\n",
    "        tar.extractall()\n",
    "        tar.close()\n",
    "\n",
    "\n",
    "tests.test_folder_path(cifar10_dataset_folder_path)"
   ]
  },
  {
   "cell_type": "markdown",
   "metadata": {},
   "source": [
    "## Explore the Data\n",
    "The dataset is broken into batches to prevent your machine from running out of memory.  The CIFAR-10 dataset consists of 5 batches, named `data_batch_1`, `data_batch_2`, etc.. Each batch contains the labels and images that are one of the following:\n",
    "* airplane\n",
    "* automobile\n",
    "* bird\n",
    "* cat\n",
    "* deer\n",
    "* dog\n",
    "* frog\n",
    "* horse\n",
    "* ship\n",
    "* truck\n",
    "\n",
    "Understanding a dataset is part of making predictions on the data.  Play around with the code cell below by changing the `batch_id` and `sample_id`. The `batch_id` is the id for a batch (1-5). The `sample_id` is the id for a image and label pair in the batch.\n",
    "\n",
    "Ask yourself \"What are all possible labels?\", \"What is the range of values for the image data?\", \"Are the labels in order or random?\".  Answers to questions like these will help you preprocess the data and end up with better predictions."
   ]
  },
  {
   "cell_type": "code",
   "execution_count": 4,
   "metadata": {
    "collapsed": false
   },
   "outputs": [
    {
     "name": "stdout",
     "output_type": "stream",
     "text": [
      "\n",
      "Stats of batch 1:\n",
      "Samples: 10000\n",
      "Label Counts: {0: 1005, 1: 974, 2: 1032, 3: 1016, 4: 999, 5: 937, 6: 1030, 7: 1001, 8: 1025, 9: 981}\n",
      "First 20 Labels: [6, 9, 9, 4, 1, 1, 2, 7, 8, 3, 4, 7, 7, 2, 9, 9, 9, 3, 2, 6]\n",
      "\n",
      "Example of Image 1:\n",
      "Image - Min Value: 5 Max Value: 254\n",
      "Image - Shape: (32, 32, 3)\n",
      "Label - Label Id: 9 Name: truck\n"
     ]
    },
    {
     "data": {
      "image/png": "[encoded data removed]",
      "text/plain": [
       "<matplotlib.figure.Figure at 0x7f9eba868518>"
      ]
     },
     "metadata": {
      "image/png": {
       "height": 250,
       "width": 253
      }
     },
     "output_type": "display_data"
    }
   ],
   "source": [
    "%matplotlib inline\n",
    "%config InlineBackend.figure_format = 'retina'\n",
    "\n",
    "import helper\n",
    "import numpy as np\n",
    "\n",
    "# Explore the dataset\n",
    "batch_id = 1\n",
    "sample_id = 1\n",
    "helper.display_stats(cifar10_dataset_folder_path, batch_id, sample_id)"
   ]
  },
  {
   "cell_type": "markdown",
   "metadata": {},
   "source": [
    "## Implement Preprocess Functions\n",
    "### Normalize\n",
    "In the cell below, implement the `normalize` function to take in image data, `x`, and return it as a normalized Numpy array. The values should be in the range of 0 to 1, inclusive.  The return object should be the same shape as `x`."
   ]
  },
  {
   "cell_type": "code",
   "execution_count": 7,
   "metadata": {
    "collapsed": false
   },
   "outputs": [
    {
     "name": "stdout",
     "output_type": "stream",
     "text": [
      "Tests Passed\n"
     ]
    }
   ],
   "source": [
    "def normalize(x):\n",
    "    \"\"\"\n",
    "    Normalize a list of sample image data in the range of 0 to 1\n",
    "    : x: List of image data.  The image shape is (32, 32, 3)\n",
    "    : return: Numpy array of normalize data\n",
    "    \"\"\"\n",
    "    # TODO: Implement Function\n",
    "    max_value = x.max(0)\n",
    "    min_value = x.min(0)\n",
    "    return (x-min_value) / (max_value - min_value)\n",
    "\n",
    "\n",
    "\"\"\"\n",
    "DON'T MODIFY ANYTHING IN THIS CELL THAT IS BELOW THIS LINE\n",
    "\"\"\"\n",
    "tests.test_normalize(normalize)"
   ]
  },
  {
   "cell_type": "markdown",
   "metadata": {},
   "source": [
    "### One-hot encode\n",
    "Just like the previous code cell, you'll be implementing a function for preprocessing.  This time, you'll implement the `one_hot_encode` function. The input, `x`, are a list of labels.  Implement the function to return the list of labels as One-Hot encoded Numpy array.  The possible values for labels are 0 to 9. The one-hot encoding function should return the same encoding for each value between each call to `one_hot_encode`.  Make sure to save the map of encodings outside the function.\n",
    "\n",
    "Hint: Don't reinvent the wheel."
   ]
  },
  {
   "cell_type": "code",
   "execution_count": 34,
   "metadata": {
    "collapsed": false
   },
   "outputs": [
    {
     "name": "stdout",
     "output_type": "stream",
     "text": [
      "Tests Passed\n"
     ]
    }
   ],
   "source": [
    "from sklearn.preprocessing import OneHotEncoder\n",
    "one_hot_encoder = OneHotEncoder(sparse=False)\n",
    "one_hot_encoder.fit(np.arange(10).reshape(-1, 1))\n",
    "\n",
    "def one_hot_encode(x):\n",
    "    \"\"\"\n",
    "    One hot encode a list of sample labels. Return a one-hot encoded vector for each label.\n",
    "    : x: List of sample Labels\n",
    "    : return: Numpy array of one-hot encoded labels\n",
    "    \"\"\"\n",
    "    # TODO: Implement Function\n",
    "    x = np.array(x).reshape(-1, 1)\n",
    "    return one_hot_encoder.transform(x)\n",
    "\n",
    "\n",
    "\"\"\"\n",
    "DON'T MODIFY ANYTHING IN THIS CELL THAT IS BELOW THIS LINE\n",
    "\"\"\"\n",
    "tests.test_one_hot_encode(one_hot_encode)"
   ]
  },
  {
   "cell_type": "markdown",
   "metadata": {},
   "source": [
    "### Randomize Data\n",
    "As you saw from exploring the data above, the order of the samples are randomized.  It doesn't hurt to randomize it again, but you don't need to for this dataset."
   ]
  },
  {
   "cell_type": "markdown",
   "metadata": {},
   "source": [
    "## Preprocess all the data and save it\n",
    "Running the code cell below will preprocess all the CIFAR-10 data and save it to file. The code below also uses 10% of the training data for validation."
   ]
  },
  {
   "cell_type": "code",
   "execution_count": 35,
   "metadata": {
    "collapsed": false
   },
   "outputs": [],
   "source": [
    "\"\"\"\n",
    "DON'T MODIFY ANYTHING IN THIS CELL\n",
    "\"\"\"\n",
    "# Preprocess Training, Validation, and Testing Data\n",
    "helper.preprocess_and_save_data(cifar10_dataset_folder_path, normalize, one_hot_encode)"
   ]
  },
  {
   "cell_type": "markdown",
   "metadata": {},
   "source": [
    "# Check Point\n",
    "This is your first checkpoint.  If you ever decide to come back to this notebook or have to restart the notebook, you can start from here.  The preprocessed data has been saved to disk."
   ]
  },
  {
   "cell_type": "code",
   "execution_count": 1,
   "metadata": {
    "collapsed": true
   },
   "outputs": [],
   "source": [
    "\"\"\"\n",
    "DON'T MODIFY ANYTHING IN THIS CELL\n",
    "\"\"\"\n",
    "import pickle\n",
    "import problem_unittests as tests\n",
    "import helper\n",
    "\n",
    "# Load the Preprocessed Validation data\n",
    "valid_features, valid_labels = pickle.load(open('preprocess_validation.p', mode='rb'))"
   ]
  },
  {
   "cell_type": "markdown",
   "metadata": {},
   "source": [
    "## Build the network\n",
    "For the neural network, you'll build each layer into a function.  Most of the code you've seen has been outside of functions. To test your code more thoroughly, we require that you put each layer in a function.  This allows us to give you better feedback and test for simple mistakes using our unittests before you submit your project.\n",
    "\n",
    ">**Note:** If you're finding it hard to dedicate enough time for this course each week, we've provided a small shortcut to this part of the project. In the next couple of problems, you'll have the option to use classes from the [TensorFlow Layers](https://www.tensorflow.org/api_docs/python/tf/layers) or [TensorFlow Layers (contrib)](https://www.tensorflow.org/api_guides/python/contrib.layers) packages to build each layer, except the layers you build in the \"Convolutional and Max Pooling Layer\" section.  TF Layers is similar to Keras's and TFLearn's abstraction to layers, so it's easy to pickup.\n",
    "\n",
    ">However, if you would like to get the most out of this course, try to solve all the problems _without_ using anything from the TF Layers packages. You **can** still use classes from other packages that happen to have the same name as ones you find in TF Layers! For example, instead of using the TF Layers version of the `conv2d` class, [tf.layers.conv2d](https://www.tensorflow.org/api_docs/python/tf/layers/conv2d), you would want to use the TF Neural Network version of `conv2d`, [tf.nn.conv2d](https://www.tensorflow.org/api_docs/python/tf/nn/conv2d). \n",
    "\n",
    "Let's begin!\n",
    "\n",
    "### Input\n",
    "The neural network needs to read the image data, one-hot encoded labels, and dropout keep probability. Implement the following functions\n",
    "* Implement `neural_net_image_input`\n",
    " * Return a [TF Placeholder](https://www.tensorflow.org/api_docs/python/tf/placeholder)\n",
    " * Set the shape using `image_shape` with batch size set to `None`.\n",
    " * Name the TensorFlow placeholder \"x\" using the TensorFlow `name` parameter in the [TF Placeholder](https://www.tensorflow.org/api_docs/python/tf/placeholder).\n",
    "* Implement `neural_net_label_input`\n",
    " * Return a [TF Placeholder](https://www.tensorflow.org/api_docs/python/tf/placeholder)\n",
    " * Set the shape using `n_classes` with batch size set to `None`.\n",
    " * Name the TensorFlow placeholder \"y\" using the TensorFlow `name` parameter in the [TF Placeholder](https://www.tensorflow.org/api_docs/python/tf/placeholder).\n",
    "* Implement `neural_net_keep_prob_input`\n",
    " * Return a [TF Placeholder](https://www.tensorflow.org/api_docs/python/tf/placeholder) for dropout keep probability.\n",
    " * Name the TensorFlow placeholder \"keep_prob\" using the TensorFlow `name` parameter in the [TF Placeholder](https://www.tensorflow.org/api_docs/python/tf/placeholder).\n",
    "\n",
    "These names will be used at the end of the project to load your saved model.\n",
    "\n",
    "Note: `None` for shapes in TensorFlow allow for a dynamic size."
   ]
  },
  {
   "cell_type": "code",
   "execution_count": 2,
   "metadata": {
    "collapsed": false
   },
   "outputs": [
    {
     "name": "stdout",
     "output_type": "stream",
     "text": [
      "Image Input Tests Passed.\n",
      "Label Input Tests Passed.\n",
      "Keep Prob Tests Passed.\n"
     ]
    }
   ],
   "source": [
    "import tensorflow as tf\n",
    "\n",
    "def neural_net_image_input(image_shape):\n",
    "    \"\"\"\n",
    "    Return a Tensor for a bach of image input\n",
    "    : image_shape: Shape of the images\n",
    "    : return: Tensor for image input.\n",
    "    \"\"\"\n",
    "    # TODO: Implement Function\n",
    "    image_shape = list(image_shape)\n",
    "    image_shape.insert(0, None)\n",
    "    return tf.placeholder(tf.float32, shape=image_shape, name='x')\n",
    "\n",
    "\n",
    "def neural_net_label_input(n_classes):\n",
    "    \"\"\"\n",
    "    Return a Tensor for a batch of label input\n",
    "    : n_classes: Number of classes\n",
    "    : return: Tensor for label input.\n",
    "    \"\"\"\n",
    "    # TODO: Implement Function\n",
    "    return tf.placeholder(tf.float32, shape=(None, n_classes), name='y')\n",
    "\n",
    "\n",
    "def neural_net_keep_prob_input():\n",
    "    \"\"\"\n",
    "    Return a Tensor for keep probability\n",
    "    : return: Tensor for keep probability.\n",
    "    \"\"\"\n",
    "    # TODO: Implement Function\n",
    "    return tf.placeholder(tf.float32, name='keep_prob')\n",
    "\n",
    "\n",
    "\"\"\"\n",
    "DON'T MODIFY ANYTHING IN THIS CELL THAT IS BELOW THIS LINE\n",
    "\"\"\"\n",
    "tf.reset_default_graph()\n",
    "tests.test_nn_image_inputs(neural_net_image_input)\n",
    "tests.test_nn_label_inputs(neural_net_label_input)\n",
    "tests.test_nn_keep_prob_inputs(neural_net_keep_prob_input)"
   ]
  },
  {
   "cell_type": "markdown",
   "metadata": {},
   "source": [
    "### Convolution and Max Pooling Layer\n",
    "Convolution layers have a lot of success with images. For this code cell, you should implement the function `conv2d_maxpool` to apply convolution then max pooling:\n",
    "* Create the weight and bias using `conv_ksize`, `conv_num_outputs` and the shape of `x_tensor`.\n",
    "* Apply a convolution to `x_tensor` using weight and `conv_strides`.\n",
    " * We recommend you use same padding, but you're welcome to use any padding.\n",
    "* Add bias\n",
    "* Add a nonlinear activation to the convolution.\n",
    "* Apply Max Pooling using `pool_ksize` and `pool_strides`.\n",
    " * We recommend you use same padding, but you're welcome to use any padding.\n",
    "\n",
    "**Note:** You **can't** use [TensorFlow Layers](https://www.tensorflow.org/api_docs/python/tf/layers) or [TensorFlow Layers (contrib)](https://www.tensorflow.org/api_guides/python/contrib.layers) for **this** layer, but you can still use TensorFlow's [Neural Network](https://www.tensorflow.org/api_docs/python/tf/nn) package. You may still use the shortcut option for all the **other** layers."
   ]
  },
  {
   "cell_type": "code",
   "execution_count": 3,
   "metadata": {
    "collapsed": false
   },
   "outputs": [
    {
     "name": "stdout",
     "output_type": "stream",
     "text": [
      "Tests Passed\n"
     ]
    }
   ],
   "source": [
    "def conv2d_maxpool(x_tensor, conv_num_outputs, conv_ksize, conv_strides, pool_ksize, pool_strides):\n",
    "    \"\"\"\n",
    "    Apply convolution then max pooling to x_tensor\n",
    "    :param x_tensor: TensorFlow Tensor\n",
    "    :param conv_num_outputs: Number of outputs for the convolutional layer\n",
    "    :param conv_ksize: kernal size 2-D Tuple for the convolutional layer\n",
    "    :param conv_strides: Stride 2-D Tuple for convolution\n",
    "    :param pool_ksize: kernal size 2-D Tuple for pool\n",
    "    :param pool_strides: Stride 2-D Tuple for pool\n",
    "    : return: A tensor that represents convolution and max pooling of x_tensor\n",
    "    \"\"\"\n",
    "    # Initialize weight and bias.\n",
    "    input_shape = x_tensor.get_shape().as_list()\n",
    "    weight_shape = conv_ksize + (input_shape[3], conv_num_outputs)\n",
    "    weight = tf.Variable(tf.truncated_normal(weight_shape, dtype=tf.float32))\n",
    "    bias = tf.Variable(tf.zeros(conv_num_outputs))\n",
    "\n",
    "    # Fix weight variances.\n",
    "    weight = weight # * tf.sqrt(2 / (input_shape[1] * input_shape[2] * input_shape[3]))\n",
    "\n",
    "    # Build the conv2d layer.\n",
    "    layer = tf.nn.conv2d(x_tensor, weight, strides=(1,)+conv_strides+(1,), padding='SAME')\n",
    "    layer = tf.nn.bias_add(layer, bias)\n",
    "    layer = tf.nn.elu(layer)\n",
    "\n",
    "    # Build the pooling layer.\n",
    "    layer = tf.nn.max_pool(layer, ksize=(1,)+pool_ksize+(1,), strides=(1,)+pool_ksize+(1,), padding='SAME')\n",
    "    return layer \n",
    "\n",
    "\n",
    "\"\"\"\n",
    "DON'T MODIFY ANYTHING IN THIS CELL THAT IS BELOW THIS LINE\n",
    "\"\"\"\n",
    "tests.test_con_pool(conv2d_maxpool)"
   ]
  },
  {
   "cell_type": "markdown",
   "metadata": {},
   "source": [
    "### Flatten Layer\n",
    "Implement the `flatten` function to change the dimension of `x_tensor` from a 4-D tensor to a 2-D tensor.  The output should be the shape (*Batch Size*, *Flattened Image Size*). Shortcut option: you can use classes from the [TensorFlow Layers](https://www.tensorflow.org/api_docs/python/tf/layers) or [TensorFlow Layers (contrib)](https://www.tensorflow.org/api_guides/python/contrib.layers) packages for this layer. For more of a challenge, only use other TensorFlow packages."
   ]
  },
  {
   "cell_type": "code",
   "execution_count": 4,
   "metadata": {
    "collapsed": false
   },
   "outputs": [
    {
     "name": "stdout",
     "output_type": "stream",
     "text": [
      "Tests Passed\n"
     ]
    }
   ],
   "source": [
    "def flatten(x_tensor):\n",
    "    \"\"\"\n",
    "    Flatten x_tensor to (Batch Size, Flattened Image Size)\n",
    "    : x_tensor: A tensor of size (Batch Size, ...), where ... are the image dimensions.\n",
    "    : return: A tensor of size (Batch Size, Flattened Image Size).\n",
    "    \"\"\"\n",
    "    # TODO: Implement Function\n",
    "    shape = x_tensor.get_shape().as_list()\n",
    "    new_shape = (-1, shape[1]*shape[2]*shape[3])\n",
    "    return tf.reshape(x_tensor, new_shape)\n",
    "\n",
    "\n",
    "\"\"\"\n",
    "DON'T MODIFY ANYTHING IN THIS CELL THAT IS BELOW THIS LINE\n",
    "\"\"\"\n",
    "tests.test_flatten(flatten)"
   ]
  },
  {
   "cell_type": "markdown",
   "metadata": {},
   "source": [
    "### Fully-Connected Layer\n",
    "Implement the `fully_conn` function to apply a fully connected layer to `x_tensor` with the shape (*Batch Size*, *num_outputs*). Shortcut option: you can use classes from the [TensorFlow Layers](https://www.tensorflow.org/api_docs/python/tf/layers) or [TensorFlow Layers (contrib)](https://www.tensorflow.org/api_guides/python/contrib.layers) packages for this layer. For more of a challenge, only use other TensorFlow packages."
   ]
  },
  {
   "cell_type": "code",
   "execution_count": 5,
   "metadata": {
    "collapsed": false
   },
   "outputs": [
    {
     "name": "stdout",
     "output_type": "stream",
     "text": [
      "Tests Passed\n"
     ]
    }
   ],
   "source": [
    "def fully_conn(x_tensor, num_outputs):\n",
    "    \"\"\"\n",
    "    Apply a fully connected layer to x_tensor using weight and bias\n",
    "    : x_tensor: A 2-D tensor where the first dimension is batch size.\n",
    "    : num_outputs: The number of output that the new tensor should be.\n",
    "    : return: A 2-D tensor where the second dimension is num_outputs.\n",
    "    \"\"\"\n",
    "    input_shape = x_tensor.get_shape().as_list()\n",
    "    weight = tf.Variable(tf.truncated_normal((input_shape[1], num_outputs), dtype=tf.float32))\n",
    "    weight = weight * tf.sqrt(2/input_shape[1])\n",
    "    bias = tf.Variable(tf.zeros(num_outputs))\n",
    "\n",
    "    layer = tf.nn.elu(tf.matmul(x_tensor, weight) + bias)\n",
    "    return layer\n",
    "\n",
    "\n",
    "\"\"\"\n",
    "DON'T MODIFY ANYTHING IN THIS CELL THAT IS BELOW THIS LINE\n",
    "\"\"\"\n",
    "tests.test_fully_conn(fully_conn)"
   ]
  },
  {
   "cell_type": "markdown",
   "metadata": {},
   "source": [
    "### Output Layer\n",
    "Implement the `output` function to apply a fully connected layer to `x_tensor` with the shape (*Batch Size*, *num_outputs*). Shortcut option: you can use classes from the [TensorFlow Layers](https://www.tensorflow.org/api_docs/python/tf/layers) or [TensorFlow Layers (contrib)](https://www.tensorflow.org/api_guides/python/contrib.layers) packages for this layer. For more of a challenge, only use other TensorFlow packages.\n",
    "\n",
    "**Note:** Activation, softmax, or cross entropy should **not** be applied to this."
   ]
  },
  {
   "cell_type": "code",
   "execution_count": 6,
   "metadata": {
    "collapsed": false
   },
   "outputs": [
    {
     "name": "stdout",
     "output_type": "stream",
     "text": [
      "Tests Passed\n"
     ]
    }
   ],
   "source": [
    "def output(x_tensor, num_outputs):\n",
    "    \"\"\"\n",
    "    Apply a output layer to x_tensor using weight and bias\n",
    "    : x_tensor: A 2-D tensor where the first dimension is batch size.\n",
    "    : num_outputs: The number of output that the new tensor should be.\n",
    "    : return: A 2-D tensor where the second dimension is num_outputs.\n",
    "    \"\"\"\n",
    "    input_shape = x_tensor.get_shape().as_list()\n",
    "    weight = tf.Variable(tf.truncated_normal((input_shape[1], num_outputs), dtype=tf.float32))\n",
    "    weight = weight * tf.sqrt(2/input_shape[1])\n",
    "    bias = tf.Variable(tf.zeros(num_outputs))\n",
    "\n",
    "    return tf.matmul(x_tensor, weight) + bias\n",
    "\n",
    "\"\"\"\n",
    "DON'T MODIFY ANYTHING IN THIS CELL THAT IS BELOW THIS LINE\n",
    "\"\"\"\n",
    "tests.test_output(output)"
   ]
  },
  {
   "cell_type": "markdown",
   "metadata": {},
   "source": [
    "### Create Convolutional Model\n",
    "Implement the function `conv_net` to create a convolutional neural network model. The function takes in a batch of images, `x`, and outputs logits.  Use the layers you created above to create this model:\n",
    "\n",
    "* Apply 1, 2, or 3 Convolution and Max Pool layers\n",
    "* Apply a Flatten Layer\n",
    "* Apply 1, 2, or 3 Fully Connected Layers\n",
    "* Apply an Output Layer\n",
    "* Return the output\n",
    "* Apply [TensorFlow's Dropout](https://www.tensorflow.org/api_docs/python/tf/nn/dropout) to one or more layers in the model using `keep_prob`. "
   ]
  },
  {
   "cell_type": "code",
   "execution_count": 7,
   "metadata": {
    "collapsed": false
   },
   "outputs": [
    {
     "name": "stdout",
     "output_type": "stream",
     "text": [
      "Neural Network Built!\n"
     ]
    }
   ],
   "source": [
    "def conv_net(x, keep_prob):\n",
    "    \"\"\"\n",
    "    Create a convolutional neural network model\n",
    "    : x: Placeholder tensor that holds image data.\n",
    "    : keep_prob: Placeholder tensor that hold dropout keep probability.\n",
    "    : return: Tensor that represents logits\n",
    "    \"\"\"\n",
    "    # TODO: Apply 1, 2, or 3 Convolution and Max Pool layers\n",
    "    #    Play around with different number of outputs, kernel size and stride\n",
    "    # Function Definition from Above:\n",
    "    #    conv2d_maxpool(x_tensor, conv_num_outputs, conv_ksize, conv_strides, pool_ksize, pool_strides)\n",
    "    net = conv2d_maxpool(x, 32, (5, 5), (1, 1), (2, 2), (2, 2))\n",
    "    net = conv2d_maxpool(x, 64, (3, 3), (1, 1), (1, 1), (1, 1))\n",
    "    net = conv2d_maxpool(x, 128, (3, 3), (1, 1), (2, 2), (2, 2))\n",
    "\n",
    "    # TODO: Apply a Flatten Layer\n",
    "    # Function Definition from Above:\n",
    "    #   flatten(x_tensor)\n",
    "    net = flatten(net)\n",
    "\n",
    "    # TODO: Apply 1, 2, or 3 Fully Connected Layers\n",
    "    #    Play around with different number of outputs\n",
    "    # Function Definition from Above:\n",
    "    #   fully_conn(x_tensor, num_outputs)\n",
    "    net = fully_conn(net, 1024)\n",
    "    net = tf.nn.dropout(net, keep_prob=keep_prob)\n",
    "\n",
    "    # TODO: Apply an Output Layer\n",
    "    #    Set this to the number of classes\n",
    "    # Function Definition from Above:\n",
    "    #   output(x_tensor, num_outputs)\n",
    "    \n",
    "    logits = output(net, 10)\n",
    "    # TODO: return output\n",
    "    return logits\n",
    "\n",
    "\n",
    "\"\"\"\n",
    "DON'T MODIFY ANYTHING IN THIS CELL THAT IS BELOW THIS LINE\n",
    "\"\"\"\n",
    "\n",
    "##############################\n",
    "## Build the Neural Network ##\n",
    "##############################\n",
    "\n",
    "# Remove previous weights, bias, inputs, etc..\n",
    "tf.reset_default_graph()\n",
    "\n",
    "# Inputs\n",
    "x = neural_net_image_input((32, 32, 3))\n",
    "y = neural_net_label_input(10)\n",
    "keep_prob = neural_net_keep_prob_input()\n",
    "\n",
    "# Model\n",
    "logits = conv_net(x, keep_prob)\n",
    "\n",
    "# Name logits Tensor, so that is can be loaded from disk after training\n",
    "logits = tf.identity(logits, name='logits')\n",
    "\n",
    "# Loss and Optimizer\n",
    "cost = tf.reduce_mean(tf.nn.softmax_cross_entropy_with_logits(logits=logits, labels=y))\n",
    "optimizer = tf.train.AdamOptimizer().minimize(cost)\n",
    "\n",
    "# Accuracy\n",
    "correct_pred = tf.equal(tf.argmax(logits, 1), tf.argmax(y, 1))\n",
    "accuracy = tf.reduce_mean(tf.cast(correct_pred, tf.float32), name='accuracy')\n",
    "\n",
    "tests.test_conv_net(conv_net)"
   ]
  },
  {
   "cell_type": "markdown",
   "metadata": {},
   "source": [
    "## Train the Neural Network\n",
    "### Single Optimization\n",
    "Implement the function `train_neural_network` to do a single optimization.  The optimization should use `optimizer` to optimize in `session` with a `feed_dict` of the following:\n",
    "* `x` for image input\n",
    "* `y` for labels\n",
    "* `keep_prob` for keep probability for dropout\n",
    "\n",
    "This function will be called for each batch, so `tf.global_variables_initializer()` has already been called.\n",
    "\n",
    "Note: Nothing needs to be returned. This function is only optimizing the neural network."
   ]
  },
  {
   "cell_type": "code",
   "execution_count": 8,
   "metadata": {
    "collapsed": false
   },
   "outputs": [
    {
     "name": "stdout",
     "output_type": "stream",
     "text": [
      "Tests Passed\n"
     ]
    }
   ],
   "source": [
    "def train_neural_network(session, optimizer, keep_probability, feature_batch, label_batch):\n",
    "    \"\"\"\n",
    "    Optimize the session on a batch of images and labels\n",
    "    : session: Current TensorFlow session\n",
    "    : optimizer: TensorFlow optimizer function\n",
    "    : keep_probability: keep probability\n",
    "    : feature_batch: Batch of Numpy image data\n",
    "    : label_batch: Batch of Numpy label data\n",
    "    \"\"\"\n",
    "    session.run(optimizer, feed_dict={x: feature_batch, y: label_batch, keep_prob: keep_probability})\n",
    "\n",
    "\n",
    "\"\"\"\n",
    "DON'T MODIFY ANYTHING IN THIS CELL THAT IS BELOW THIS LINE\n",
    "\"\"\"\n",
    "tests.test_train_nn(train_neural_network)"
   ]
  },
  {
   "cell_type": "markdown",
   "metadata": {},
   "source": [
    "### Show Stats\n",
    "Implement the function `print_stats` to print loss and validation accuracy.  Use the global variables `valid_features` and `valid_labels` to calculate validation accuracy.  Use a keep probability of `1.0` to calculate the loss and validation accuracy."
   ]
  },
  {
   "cell_type": "code",
   "execution_count": 16,
   "metadata": {
    "collapsed": false
   },
   "outputs": [],
   "source": [
    "def print_stats(session, feature_batch, label_batch, cost, accuracy):\n",
    "    \"\"\"\n",
    "    Print information about loss and validation accuracy\n",
    "    : session: Current TensorFlow session\n",
    "    : feature_batch: Batch of Numpy image data\n",
    "    : label_batch: Batch of Numpy label data\n",
    "    : cost: TensorFlow cost function\n",
    "    : accuracy: TensorFlow accuracy function\n",
    "    \"\"\"\n",
    "    accuracy_total = 0\n",
    "    cost_total = 0\n",
    "    batch_count = 0\n",
    "\n",
    "    for feature_batch, label_batch in helper.batch_features_labels(valid_features, valid_labels, batch_size):\n",
    "        cost_total += sess.run(cost, feed_dict={x: feature_batch, y: label_batch, keep_prob: 1.0})\n",
    "        accuracy_total += sess.run(accuracy, feed_dict={x: feature_batch, y: label_batch, keep_prob: 1.0})\n",
    "        batch_count += 1\n",
    "\n",
    "    print('Cost', cost_total/batch_count)\n",
    "    print('Accuracy', accuracy_total/batch_count)"
   ]
  },
  {
   "cell_type": "markdown",
   "metadata": {},
   "source": [
    "### Hyperparameters\n",
    "Tune the following parameters:\n",
    "* Set `epochs` to the number of iterations until the network stops learning or start overfitting\n",
    "* Set `batch_size` to the highest number that your machine has memory for.  Most people set them to common sizes of memory:\n",
    " * 64\n",
    " * 128\n",
    " * 256\n",
    " * ...\n",
    "* Set `keep_probability` to the probability of keeping a node using dropout"
   ]
  },
  {
   "cell_type": "code",
   "execution_count": 10,
   "metadata": {
    "collapsed": true
   },
   "outputs": [],
   "source": [
    "# TODO: Tune Parameters\n",
    "epochs = 20\n",
    "batch_size = 256\n",
    "keep_probability = 0.5"
   ]
  },
  {
   "cell_type": "markdown",
   "metadata": {},
   "source": [
    "### Train on a Single CIFAR-10 Batch\n",
    "Instead of training the neural network on all the CIFAR-10 batches of data, let's use a single batch. This should save time while you iterate on the model to get a better accuracy.  Once the final validation accuracy is 50% or greater, run the model on all the data in the next section."
   ]
  },
  {
   "cell_type": "code",
   "execution_count": 17,
   "metadata": {
    "collapsed": false
   },
   "outputs": [
    {
     "name": "stdout",
     "output_type": "stream",
     "text": [
      "Checking the Training on a Single Batch...\n",
      "Epoch  1, CIFAR-10 Batch 1:  Cost 1.8639434278\n",
      "Accuracy 0.341544117033\n",
      "Epoch  2, CIFAR-10 Batch 1:  Cost 1.77429918051\n",
      "Accuracy 0.374264706671\n",
      "Epoch  3, CIFAR-10 Batch 1:  Cost 1.69405396581\n",
      "Accuracy 0.401298254728\n",
      "Epoch  4, CIFAR-10 Batch 1:  Cost 1.64767011404\n",
      "Accuracy 0.416796875\n",
      "Epoch  5, CIFAR-10 Batch 1:  Cost 1.59110224247\n",
      "Accuracy 0.440464156866\n",
      "Epoch  6, CIFAR-10 Batch 1:  Cost 1.58052538633\n",
      "Accuracy 0.441957721114\n",
      "Epoch  7, CIFAR-10 Batch 1:  Cost 1.55620458722\n",
      "Accuracy 0.450160847604\n",
      "Epoch  8, CIFAR-10 Batch 1:  Cost 1.53599852324\n",
      "Accuracy 0.459294578433\n",
      "Epoch  9, CIFAR-10 Batch 1:  Cost 1.50572811365\n",
      "Accuracy 0.471771600842\n",
      "Epoch 10, CIFAR-10 Batch 1:  Cost 1.46799706817\n",
      "Accuracy 0.489889705181\n",
      "Epoch 11, CIFAR-10 Batch 1:  Cost 1.46220075488\n",
      "Accuracy 0.484903493524\n",
      "Epoch 12, CIFAR-10 Batch 1:  Cost 1.44599282146\n",
      "Accuracy 0.497047334909\n",
      "Epoch 13, CIFAR-10 Batch 1:  Cost 1.42423110604\n",
      "Accuracy 0.506008732319\n",
      "Epoch 14, CIFAR-10 Batch 1:  Cost 1.42608953714\n",
      "Accuracy 0.505836397409\n",
      "Epoch 15, CIFAR-10 Batch 1:  Cost 1.40664202571\n",
      "Accuracy 0.514947152138\n",
      "Epoch 16, CIFAR-10 Batch 1:  Cost 1.40513807535\n",
      "Accuracy 0.514430147409\n",
      "Epoch 17, CIFAR-10 Batch 1:  Cost 1.39131039977\n",
      "Accuracy 0.520289522409\n",
      "Epoch 18, CIFAR-10 Batch 1:  Cost 1.38626679778\n",
      "Accuracy 0.518072152138\n",
      "Epoch 19, CIFAR-10 Batch 1:  Cost 1.38537043929\n",
      "Accuracy 0.517313879728\n",
      "Epoch 20, CIFAR-10 Batch 1:  Cost 1.39541082978\n",
      "Accuracy 0.51484375\n"
     ]
    }
   ],
   "source": [
    "\"\"\"\n",
    "DON'T MODIFY ANYTHING IN THIS CELL\n",
    "\"\"\"\n",
    "print('Checking the Training on a Single Batch...')\n",
    "with tf.Session() as sess:\n",
    "    # Initializing the variables\n",
    "    sess.run(tf.global_variables_initializer())\n",
    "    \n",
    "    # Training cycle\n",
    "    for epoch in range(epochs):\n",
    "        batch_i = 1\n",
    "        for batch_features, batch_labels in helper.load_preprocess_training_batch(batch_i, batch_size):\n",
    "            train_neural_network(sess, optimizer, keep_probability, batch_features, batch_labels)\n",
    "        print('Epoch {:>2}, CIFAR-10 Batch {}:  '.format(epoch + 1, batch_i), end='')\n",
    "        print_stats(sess, valid_features, valid_labels, cost, accuracy)"
   ]
  },
  {
   "cell_type": "markdown",
   "metadata": {},
   "source": [
    "### Fully Train the Model\n",
    "Now that you got a good accuracy with a single CIFAR-10 batch, try it with all five batches."
   ]
  },
  {
   "cell_type": "code",
   "execution_count": 18,
   "metadata": {
    "collapsed": false,
    "scrolled": false
   },
   "outputs": [
    {
     "name": "stdout",
     "output_type": "stream",
     "text": [
      "Training...\n",
      "Epoch  1, CIFAR-10 Batch 1:  Cost 1.91102244258\n",
      "Accuracy 0.336569395661\n",
      "Epoch  1, CIFAR-10 Batch 2:  Cost 1.74211140871\n",
      "Accuracy 0.400666360557\n",
      "Epoch  1, CIFAR-10 Batch 3:  Cost 1.70068943501\n",
      "Accuracy 0.407157629728\n",
      "Epoch  1, CIFAR-10 Batch 4:  Cost 1.6341725409\n",
      "Accuracy 0.414211857319\n",
      "Epoch  1, CIFAR-10 Batch 5:  Cost 1.59032982588\n",
      "Accuracy 0.436075370014\n",
      "Epoch  2, CIFAR-10 Batch 1:  Cost 1.55311343074\n",
      "Accuracy 0.454434743524\n",
      "Epoch  2, CIFAR-10 Batch 2:  Cost 1.50612331629\n",
      "Accuracy 0.47988281548\n",
      "Epoch  2, CIFAR-10 Batch 3:  Cost 1.51129878759\n",
      "Accuracy 0.468956802785\n",
      "Epoch  2, CIFAR-10 Batch 4:  Cost 1.47806733847\n",
      "Accuracy 0.483272060752\n",
      "Epoch  2, CIFAR-10 Batch 5:  Cost 1.47634641528\n",
      "Accuracy 0.48161765039\n",
      "Epoch  3, CIFAR-10 Batch 1:  Cost 1.4284396708\n",
      "Accuracy 0.494944855571\n",
      "Epoch  3, CIFAR-10 Batch 2:  Cost 1.41738115549\n",
      "Accuracy 0.504848346114\n",
      "Epoch  3, CIFAR-10 Batch 3:  Cost 1.38873092532\n",
      "Accuracy 0.51152344048\n",
      "Epoch  3, CIFAR-10 Batch 4:  Cost 1.37491180301\n",
      "Accuracy 0.5169921875\n",
      "Epoch  3, CIFAR-10 Batch 5:  Cost 1.35741431117\n",
      "Accuracy 0.524126839638\n",
      "Epoch  4, CIFAR-10 Batch 1:  Cost 1.37591919303\n",
      "Accuracy 0.51289062798\n",
      "Epoch  4, CIFAR-10 Batch 2:  Cost 1.36570974588\n",
      "Accuracy 0.52341452539\n",
      "Epoch  4, CIFAR-10 Batch 3:  Cost 1.339640975\n",
      "Accuracy 0.5240234375\n",
      "Epoch  4, CIFAR-10 Batch 4:  Cost 1.30482910872\n",
      "Accuracy 0.543290442228\n",
      "Epoch  4, CIFAR-10 Batch 5:  Cost 1.30443118215\n",
      "Accuracy 0.544175094366\n",
      "Epoch  5, CIFAR-10 Batch 1:  Cost 1.30941364169\n",
      "Accuracy 0.545611214638\n",
      "Epoch  5, CIFAR-10 Batch 2:  Cost 1.3201069653\n",
      "Accuracy 0.538062959909\n",
      "Epoch  5, CIFAR-10 Batch 3:  Cost 1.28874930143\n",
      "Accuracy 0.547219669819\n",
      "Epoch  5, CIFAR-10 Batch 4:  Cost 1.2635304749\n",
      "Accuracy 0.559306067228\n",
      "Epoch  5, CIFAR-10 Batch 5:  Cost 1.25016387701\n",
      "Accuracy 0.568669578433\n",
      "Epoch  6, CIFAR-10 Batch 1:  Cost 1.26284523606\n",
      "Accuracy 0.562465536594\n",
      "Epoch  6, CIFAR-10 Batch 2:  Cost 1.27466634512\n",
      "Accuracy 0.559846049547\n",
      "Epoch  6, CIFAR-10 Batch 3:  Cost 1.24918566346\n",
      "Accuracy 0.562603402138\n",
      "Epoch  6, CIFAR-10 Batch 4:  Cost 1.2257296145\n",
      "Accuracy 0.570932906866\n",
      "Epoch  6, CIFAR-10 Batch 5:  Cost 1.22231780887\n",
      "Accuracy 0.571564799547\n",
      "Epoch  7, CIFAR-10 Batch 1:  Cost 1.23070721626\n",
      "Accuracy 0.569542738795\n",
      "Epoch  7, CIFAR-10 Batch 2:  Cost 1.2395144403\n",
      "Accuracy 0.572736674547\n",
      "Epoch  7, CIFAR-10 Batch 3:  Cost 1.22057462931\n",
      "Accuracy 0.573299634457\n",
      "Epoch  7, CIFAR-10 Batch 4:  Cost 1.19863653183\n",
      "Accuracy 0.578354778886\n",
      "Epoch  7, CIFAR-10 Batch 5:  Cost 1.19373821616\n",
      "Accuracy 0.584754139185\n",
      "Epoch  8, CIFAR-10 Batch 1:  Cost 1.19350690246\n",
      "Accuracy 0.582686120272\n",
      "Epoch  8, CIFAR-10 Batch 2:  Cost 1.20731906295\n",
      "Accuracy 0.580870863795\n",
      "Epoch  8, CIFAR-10 Batch 3:  Cost 1.18528448343\n",
      "Accuracy 0.588269761205\n",
      "Epoch  8, CIFAR-10 Batch 4:  Cost 1.17746877074\n",
      "Accuracy 0.586948531866\n",
      "Epoch  8, CIFAR-10 Batch 5:  Cost 1.16870625019\n",
      "Accuracy 0.592520684004\n",
      "Epoch  9, CIFAR-10 Batch 1:  Cost 1.17639888525\n",
      "Accuracy 0.591475182772\n",
      "Epoch  9, CIFAR-10 Batch 2:  Cost 1.19192889929\n",
      "Accuracy 0.585535386205\n",
      "Epoch  9, CIFAR-10 Batch 3:  Cost 1.16055472493\n",
      "Accuracy 0.590441179276\n",
      "Epoch  9, CIFAR-10 Batch 4:  Cost 1.16277172565\n",
      "Accuracy 0.592520681024\n",
      "Epoch  9, CIFAR-10 Batch 5:  Cost 1.1490588218\n",
      "Accuracy 0.604825368524\n",
      "Epoch 10, CIFAR-10 Batch 1:  Cost 1.14934989214\n",
      "Accuracy 0.605560663342\n",
      "Epoch 10, CIFAR-10 Batch 2:  Cost 1.16480227113\n",
      "Accuracy 0.597380515933\n",
      "Epoch 10, CIFAR-10 Batch 3:  Cost 1.15158982277\n",
      "Accuracy 0.592394304276\n",
      "Epoch 10, CIFAR-10 Batch 4:  Cost 1.14162150621\n",
      "Accuracy 0.597598803043\n",
      "Epoch 10, CIFAR-10 Batch 5:  Cost 1.13409925401\n",
      "Accuracy 0.603044578433\n",
      "Epoch 11, CIFAR-10 Batch 1:  Cost 1.13520226181\n",
      "Accuracy 0.609811580181\n",
      "Epoch 11, CIFAR-10 Batch 2:  Cost 1.14881134927\n",
      "Accuracy 0.599724265933\n",
      "Epoch 11, CIFAR-10 Batch 3:  Cost 1.13474872112\n",
      "Accuracy 0.601378676295\n",
      "Epoch 11, CIFAR-10 Batch 4:  Cost 1.12658352256\n",
      "Accuracy 0.606215533614\n",
      "Epoch 11, CIFAR-10 Batch 5:  Cost 1.12137745023\n",
      "Accuracy 0.611856618524\n",
      "Epoch 12, CIFAR-10 Batch 1:  Cost 1.11953600049\n",
      "Accuracy 0.611155790091\n",
      "Epoch 12, CIFAR-10 Batch 2:  Cost 1.12230971754\n",
      "Accuracy 0.609489893913\n",
      "Epoch 12, CIFAR-10 Batch 3:  Cost 1.12138967216\n",
      "Accuracy 0.608318015933\n",
      "Epoch 12, CIFAR-10 Batch 4:  Cost 1.11504121423\n",
      "Accuracy 0.611787685752\n",
      "Epoch 12, CIFAR-10 Batch 5:  Cost 1.11144760549\n",
      "Accuracy 0.611075368524\n",
      "Epoch 13, CIFAR-10 Batch 1:  Cost 1.10329710245\n",
      "Accuracy 0.621312040091\n",
      "Epoch 13, CIFAR-10 Batch 2:  Cost 1.10758698583\n",
      "Accuracy 0.616624540091\n",
      "Epoch 13, CIFAR-10 Batch 3:  Cost 1.11061192155\n",
      "Accuracy 0.609271600842\n",
      "Epoch 13, CIFAR-10 Batch 4:  Cost 1.10155644417\n",
      "Accuracy 0.615153953433\n",
      "Epoch 13, CIFAR-10 Batch 5:  Cost 1.09147376418\n",
      "Accuracy 0.621162685752\n",
      "Epoch 14, CIFAR-10 Batch 1:  Cost 1.09918752313\n",
      "Accuracy 0.6166015625\n",
      "Epoch 14, CIFAR-10 Batch 2:  Cost 1.09751894772\n",
      "Accuracy 0.619358918071\n",
      "Epoch 14, CIFAR-10 Batch 3:  Cost 1.10477280617\n",
      "Accuracy 0.610926011205\n",
      "Epoch 14, CIFAR-10 Batch 4:  Cost 1.09584314823\n",
      "Accuracy 0.616865810752\n",
      "Epoch 14, CIFAR-10 Batch 5:  Cost 1.08458099365\n",
      "Accuracy 0.618255975842\n",
      "Epoch 15, CIFAR-10 Batch 1:  Cost 1.08303583264\n",
      "Accuracy 0.62597656548\n",
      "Epoch 15, CIFAR-10 Batch 2:  Cost 1.08985843956\n",
      "Accuracy 0.626390168071\n",
      "Epoch 15, CIFAR-10 Batch 3:  Cost 1.08873825669\n",
      "Accuracy 0.619864431024\n",
      "Epoch 15, CIFAR-10 Batch 4:  Cost 1.08123091161\n",
      "Accuracy 0.625068935752\n",
      "Epoch 15, CIFAR-10 Batch 5:  Cost 1.07535548806\n",
      "Accuracy 0.622288602591\n",
      "Epoch 16, CIFAR-10 Batch 1:  Cost 1.07564029098\n",
      "Accuracy 0.627125459909\n",
      "Epoch 16, CIFAR-10 Batch 2:  Cost 1.08807300627\n",
      "Accuracy 0.625390625\n",
      "Epoch 16, CIFAR-10 Batch 3:  Cost 1.07594610751\n",
      "Accuracy 0.621082261205\n",
      "Epoch 16, CIFAR-10 Batch 4:  Cost 1.07871676087\n",
      "Accuracy 0.62773437798\n",
      "Epoch 16, CIFAR-10 Batch 5:  Cost 1.06242987812\n",
      "Accuracy 0.627607998252\n",
      "Epoch 17, CIFAR-10 Batch 1:  Cost 1.05845347643\n",
      "Accuracy 0.635305607319\n",
      "Epoch 17, CIFAR-10 Batch 2:  Cost 1.07531202137\n",
      "Accuracy 0.628538602591\n",
      "Epoch 17, CIFAR-10 Batch 3:  Cost 1.07281805277\n",
      "Accuracy 0.623311120272\n",
      "Epoch 17, CIFAR-10 Batch 4:  Cost 1.0660394758\n",
      "Accuracy 0.634742647409\n",
      "Epoch 17, CIFAR-10 Batch 5:  Cost 1.05339850485\n",
      "Accuracy 0.633053770661\n",
      "Epoch 18, CIFAR-10 Batch 1:  Cost 1.04966499805\n",
      "Accuracy 0.634914979339\n",
      "Epoch 18, CIFAR-10 Batch 2:  Cost 1.06268905699\n",
      "Accuracy 0.6349609375\n",
      "Epoch 18, CIFAR-10 Batch 3:  Cost 1.06998822689\n",
      "Accuracy 0.624678307772\n",
      "Epoch 18, CIFAR-10 Batch 4:  Cost 1.05343692303\n",
      "Accuracy 0.638039982319\n",
      "Epoch 18, CIFAR-10 Batch 5:  Cost 1.04269201159\n",
      "Accuracy 0.63828125\n",
      "Epoch 19, CIFAR-10 Batch 1:  Cost 1.05342852771\n",
      "Accuracy 0.635914522409\n",
      "Epoch 19, CIFAR-10 Batch 2:  Cost 1.05844076574\n",
      "Accuracy 0.639579507709\n",
      "Epoch 19, CIFAR-10 Batch 3:  Cost 1.05473990738\n",
      "Accuracy 0.632490807772\n",
      "Epoch 19, CIFAR-10 Batch 4:  Cost 1.04553159475\n",
      "Accuracy 0.639280790091\n",
      "Epoch 19, CIFAR-10 Batch 5:  Cost 1.03190466166\n",
      "Accuracy 0.64453125\n",
      "Epoch 20, CIFAR-10 Batch 1:  Cost 1.03533891439\n",
      "Accuracy 0.641142004728\n",
      "Epoch 20, CIFAR-10 Batch 2:  Cost 1.0419665575\n",
      "Accuracy 0.642727482319\n",
      "Epoch 20, CIFAR-10 Batch 3:  Cost 1.04625214636\n",
      "Accuracy 0.632904413342\n",
      "Epoch 20, CIFAR-10 Batch 4:  Cost 1.04164221585\n",
      "Accuracy 0.641969209909\n",
      "Epoch 20, CIFAR-10 Batch 5:  Cost 1.02883687913\n",
      "Accuracy 0.644312959909\n"
     ]
    }
   ],
   "source": [
    "\"\"\"\n",
    "DON'T MODIFY ANYTHING IN THIS CELL\n",
    "\"\"\"\n",
    "save_model_path = './image_classification'\n",
    "\n",
    "print('Training...')\n",
    "with tf.Session() as sess:\n",
    "    # Initializing the variables\n",
    "    sess.run(tf.global_variables_initializer())\n",
    "    \n",
    "    # Training cycle\n",
    "    for epoch in range(epochs):\n",
    "        # Loop over all batches\n",
    "        n_batches = 5\n",
    "        for batch_i in range(1, n_batches + 1):\n",
    "            for batch_features, batch_labels in helper.load_preprocess_training_batch(batch_i, batch_size):\n",
    "                train_neural_network(sess, optimizer, keep_probability, batch_features, batch_labels)\n",
    "            print('Epoch {:>2}, CIFAR-10 Batch {}:  '.format(epoch + 1, batch_i), end='')\n",
    "            print_stats(sess, batch_features, batch_labels, cost, accuracy)\n",
    "\n",
    "    # Save Model\n",
    "    saver = tf.train.Saver()\n",
    "    save_path = saver.save(sess, save_model_path)"
   ]
  },
  {
   "cell_type": "markdown",
   "metadata": {},
   "source": [
    "# Checkpoint\n",
    "The model has been saved to disk.\n",
    "## Test Model\n",
    "Test your model against the test dataset.  This will be your final accuracy. You should have an accuracy greater than 50%. If you don't, keep tweaking the model architecture and parameters."
   ]
  },
  {
   "cell_type": "code",
   "execution_count": 19,
   "metadata": {
    "collapsed": false
   },
   "outputs": [
    {
     "name": "stdout",
     "output_type": "stream",
     "text": [
      "Testing Accuracy: 0.6427734375\n",
      "\n"
     ]
    },
    {
     "data": {
      "image/png": "[encoded data removed]",
      "text/plain": [
       "<matplotlib.figure.Figure at 0x7fdad41c69b0>"
      ]
     },
     "metadata": {
      "image/png": {
       "height": 319,
       "width": 355
      }
     },
     "output_type": "display_data"
    }
   ],
   "source": [
    "\"\"\"\n",
    "DON'T MODIFY ANYTHING IN THIS CELL\n",
    "\"\"\"\n",
    "%matplotlib inline\n",
    "%config InlineBackend.figure_format = 'retina'\n",
    "\n",
    "import tensorflow as tf\n",
    "import pickle\n",
    "import helper\n",
    "import random\n",
    "\n",
    "# Set batch size if not already set\n",
    "try:\n",
    "    if batch_size:\n",
    "        pass\n",
    "except NameError:\n",
    "    batch_size = 64\n",
    "\n",
    "save_model_path = './image_classification'\n",
    "n_samples = 4\n",
    "top_n_predictions = 3\n",
    "\n",
    "def test_model():\n",
    "    \"\"\"\n",
    "    Test the saved model against the test dataset\n",
    "    \"\"\"\n",
    "\n",
    "    test_features, test_labels = pickle.load(open('preprocess_training.p', mode='rb'))\n",
    "    loaded_graph = tf.Graph()\n",
    "\n",
    "    with tf.Session(graph=loaded_graph) as sess:\n",
    "        # Load model\n",
    "        loader = tf.train.import_meta_graph(save_model_path + '.meta')\n",
    "        loader.restore(sess, save_model_path)\n",
    "\n",
    "        # Get Tensors from loaded model\n",
    "        loaded_x = loaded_graph.get_tensor_by_name('x:0')\n",
    "        loaded_y = loaded_graph.get_tensor_by_name('y:0')\n",
    "        loaded_keep_prob = loaded_graph.get_tensor_by_name('keep_prob:0')\n",
    "        loaded_logits = loaded_graph.get_tensor_by_name('logits:0')\n",
    "        loaded_acc = loaded_graph.get_tensor_by_name('accuracy:0')\n",
    "        \n",
    "        # Get accuracy in batches for memory limitations\n",
    "        test_batch_acc_total = 0\n",
    "        test_batch_count = 0\n",
    "        \n",
    "        for train_feature_batch, train_label_batch in helper.batch_features_labels(test_features, test_labels, batch_size):\n",
    "            test_batch_acc_total += sess.run(\n",
    "                loaded_acc,\n",
    "                feed_dict={loaded_x: train_feature_batch, loaded_y: train_label_batch, loaded_keep_prob: 1.0})\n",
    "            test_batch_count += 1\n",
    "\n",
    "        print('Testing Accuracy: {}\\n'.format(test_batch_acc_total/test_batch_count))\n",
    "\n",
    "        # Print Random Samples\n",
    "        random_test_features, random_test_labels = tuple(zip(*random.sample(list(zip(test_features, test_labels)), n_samples)))\n",
    "        random_test_predictions = sess.run(\n",
    "            tf.nn.top_k(tf.nn.softmax(loaded_logits), top_n_predictions),\n",
    "            feed_dict={loaded_x: random_test_features, loaded_y: random_test_labels, loaded_keep_prob: 1.0})\n",
    "        helper.display_image_predictions(random_test_features, random_test_labels, random_test_predictions)\n",
    "\n",
    "\n",
    "test_model()"
   ]
  },
  {
   "cell_type": "markdown",
   "metadata": {},
   "source": [
    "## Why 50-70% Accuracy?\n",
    "You might be wondering why you can't get an accuracy any higher. First things first, 50% isn't bad for a simple CNN.  Pure guessing would get you 10% accuracy. However, you might notice people are getting scores [well above 70%](http://rodrigob.github.io/are_we_there_yet/build/classification_datasets_results.html#43494641522d3130).  That's because we haven't taught you all there is to know about neural networks. We still need to cover a few more techniques.\n",
    "## Submitting This Project\n",
    "When submitting this project, make sure to run all the cells before saving the notebook.  Save the notebook file as \"dlnd_image_classification.ipynb\" and save it as a HTML file under \"File\" -> \"Download as\".  Include the \"helper.py\" and \"problem_unittests.py\" files in your submission."
   ]
  }
 ],
 "metadata": {
  "kernelspec": {
   "display_name": "Python 3",
   "language": "python",
   "name": "python3"
  },
  "language_info": {
   "codemirror_mode": {
    "name": "ipython",
    "version": 3
   },
   "file_extension": ".py",
   "mimetype": "text/x-python",
   "name": "python",
   "nbconvert_exporter": "python",
   "pygments_lexer": "ipython3",
   "version": "3.6.0"
  }
 },
 "nbformat": 4,
 "nbformat_minor": 0
}
